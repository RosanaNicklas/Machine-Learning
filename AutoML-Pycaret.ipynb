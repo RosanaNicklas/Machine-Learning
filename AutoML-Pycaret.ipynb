{
 "cells": [
  {
   "cell_type": "markdown",
   "id": "964324a0",
   "metadata": {},
   "source": [
    "# AutoML-Pycaret"
   ]
  },
  {
   "cell_type": "markdown",
   "id": "05f22ef6",
   "metadata": {},
   "source": [
    "https://pycaret.gitbook.io/docs/get-started/installation"
   ]
  },
  {
   "cell_type": "code",
   "execution_count": null,
   "id": "ab3c116a",
   "metadata": {},
   "outputs": [
    {
     "name": "stdout",
     "output_type": "stream",
     "text": [
      "Collecting pycaret\n",
      "  Downloading pycaret-3.0.0rc4-py3-none-any.whl (487 kB)\n",
      "\u001b[2K     \u001b[90m━━━━━━━━━━━━━━━━━━━━━━━━━━━━━━━━━━━━━━\u001b[0m \u001b[32m487.2/487.2 kB\u001b[0m \u001b[31m10.7 MB/s\u001b[0m eta \u001b[36m0:00:00\u001b[0m00:01\u001b[0m\n",
      "\u001b[?25hCollecting numba~=0.55.0\n",
      "  Downloading numba-0.55.2.tar.gz (2.3 MB)\n",
      "\u001b[2K     \u001b[90m━━━━━━━━━━━━━━━━━━━━━━━━━━━━━━━━━━━━━━━━\u001b[0m \u001b[32m2.3/2.3 MB\u001b[0m \u001b[31m21.6 MB/s\u001b[0m eta \u001b[36m0:00:00\u001b[0ma \u001b[36m0:00:01\u001b[0m\n",
      "\u001b[?25h  Preparing metadata (setup.py) ... \u001b[?25ldone\n",
      "\u001b[?25hCollecting scikit-learn>=1.0\n",
      "  Using cached scikit_learn-1.1.3-cp38-cp38-macosx_10_9_x86_64.whl (8.6 MB)\n",
      "Collecting tbats>=1.1.0\n",
      "  Downloading tbats-1.1.1-py3-none-any.whl (43 kB)\n",
      "\u001b[2K     \u001b[90m━━━━━━━━━━━━━━━━━━━━━━━━━━━━━━━━━━━━━━━━\u001b[0m \u001b[32m43.8/43.8 kB\u001b[0m \u001b[31m5.9 MB/s\u001b[0m eta \u001b[36m0:00:00\u001b[0m\n",
      "\u001b[?25hRequirement already satisfied: ipywidgets>=7.6.5 in /Library/Frameworks/Python.framework/Versions/3.8/lib/python3.8/site-packages (from pycaret) (8.0.2)\n",
      "Requirement already satisfied: ipython>=5.5.0 in /Library/Frameworks/Python.framework/Versions/3.8/lib/python3.8/site-packages (from pycaret) (8.4.0)\n",
      "Collecting schemdraw>=0.14\n",
      "  Downloading schemdraw-0.15-py3-none-any.whl (106 kB)\n",
      "\u001b[2K     \u001b[90m━━━━━━━━━━━━━━━━━━━━━━━━━━━━━━━━━━━━━━\u001b[0m \u001b[32m106.8/106.8 kB\u001b[0m \u001b[31m15.5 MB/s\u001b[0m eta \u001b[36m0:00:00\u001b[0m\n",
      "\u001b[?25hRequirement already satisfied: jinja2>=1.2 in /Library/Frameworks/Python.framework/Versions/3.8/lib/python3.8/site-packages (from pycaret) (3.1.2)\n",
      "Collecting plotly-resampler>=0.7.2.2\n",
      "  Downloading plotly_resampler-0.8.2.tar.gz (44 kB)\n",
      "\u001b[2K     \u001b[90m━━━━━━━━━━━━━━━━━━━━━━━━━━━━━━━━━━━━━━━━\u001b[0m \u001b[32m44.6/44.6 kB\u001b[0m \u001b[31m5.9 MB/s\u001b[0m eta \u001b[36m0:00:00\u001b[0m\n",
      "\u001b[?25h  Installing build dependencies ... \u001b[?25ldone\n",
      "\u001b[?25h  Getting requirements to build wheel ... \u001b[?25ldone\n",
      "\u001b[?25h  Preparing metadata (pyproject.toml) ... \u001b[?25ldone\n",
      "\u001b[?25hCollecting lightgbm>=3.0.0\n",
      "  Using cached lightgbm-3.3.3.tar.gz (1.5 MB)\n",
      "  Preparing metadata (setup.py) ... \u001b[?25ldone\n",
      "\u001b[?25hCollecting sktime~=0.13.2\n",
      "  Downloading sktime-0.13.4-py3-none-any.whl (7.0 MB)\n",
      "\u001b[2K     \u001b[90m━━━━━━━━━━━━━━━━━━━━━━━━━━━━━━━━━━━━━━━━\u001b[0m \u001b[32m7.0/7.0 MB\u001b[0m \u001b[31m29.9 MB/s\u001b[0m eta \u001b[36m0:00:00\u001b[0m00:01\u001b[0m00:01\u001b[0m\n",
      "\u001b[?25hRequirement already satisfied: scipy<1.9.0 in /Library/Frameworks/Python.framework/Versions/3.8/lib/python3.8/site-packages (from pycaret) (1.5.4)\n",
      "Collecting category-encoders>=2.4.0\n",
      "  Downloading category_encoders-2.5.1.post0-py2.py3-none-any.whl (72 kB)\n",
      "\u001b[2K     \u001b[90m━━━━━━━━━━━━━━━━━━━━━━━━━━━━━━━━━━━━━━━━\u001b[0m \u001b[32m72.4/72.4 kB\u001b[0m \u001b[31m12.5 MB/s\u001b[0m eta \u001b[36m0:00:00\u001b[0m\n",
      "\u001b[?25hRequirement already satisfied: markupsafe>=2.0.1 in /Library/Frameworks/Python.framework/Versions/3.8/lib/python3.8/site-packages (from pycaret) (2.1.1)\n",
      "Collecting pmdarima!=1.8.1,<2.0.0,>=1.8.0\n",
      "  Downloading pmdarima-1.8.5.tar.gz (639 kB)\n",
      "\u001b[2K     \u001b[90m━━━━━━━━━━━━━━━━━━━━━━━━━━━━━━━━━━━━━━\u001b[0m \u001b[32m639.7/639.7 kB\u001b[0m \u001b[31m34.9 MB/s\u001b[0m eta \u001b[36m0:00:00\u001b[0m\n",
      "\u001b[?25h  Preparing metadata (setup.py) ... \u001b[?25ldone\n",
      "\u001b[?25hCollecting kaleido>=0.2.1\n",
      "  Downloading kaleido-0.2.1-py2.py3-none-macosx_10_11_x86_64.whl (85.2 MB)\n",
      "\u001b[2K     \u001b[90m━━━━━━━━━━━━━━━━━━━━━━━━━━━━━━━━━━━━━━━━\u001b[0m \u001b[32m85.2/85.2 MB\u001b[0m \u001b[31m16.4 MB/s\u001b[0m eta \u001b[36m0:00:00\u001b[0m00:01\u001b[0m00:01\u001b[0m\n",
      "\u001b[?25hCollecting pandas<1.5.0,>=1.3.0\n",
      "  Downloading pandas-1.4.4-cp38-cp38-macosx_10_9_x86_64.whl (11.4 MB)\n",
      "\u001b[2K     \u001b[90m━━━━━━━━━━━━━━━━━━━━━━━━━━━━━━━━━━━━━━━━\u001b[0m \u001b[32m11.4/11.4 MB\u001b[0m \u001b[31m30.9 MB/s\u001b[0m eta \u001b[36m0:00:00\u001b[0m00:01\u001b[0m00:01\u001b[0m\n",
      "\u001b[?25hRequirement already satisfied: psutil>=5.9.0 in /Library/Frameworks/Python.framework/Versions/3.8/lib/python3.8/site-packages (from pycaret) (5.9.1)\n",
      "Requirement already satisfied: statsmodels>=0.12.1 in /Library/Frameworks/Python.framework/Versions/3.8/lib/python3.8/site-packages (from pycaret) (0.13.2)\n",
      "Requirement already satisfied: requests>=2.27.1 in /Library/Frameworks/Python.framework/Versions/3.8/lib/python3.8/site-packages (from pycaret) (2.28.1)\n",
      "Requirement already satisfied: pyod>=0.9.8 in /Library/Frameworks/Python.framework/Versions/3.8/lib/python3.8/site-packages (from pycaret) (1.0.6)\n",
      "Requirement already satisfied: importlib-metadata>=4.12.0 in /Library/Frameworks/Python.framework/Versions/3.8/lib/python3.8/site-packages (from pycaret) (5.0.0)\n",
      "Collecting yellowbrick>=1.4\n",
      "  Using cached yellowbrick-1.5-py3-none-any.whl (282 kB)\n",
      "Requirement already satisfied: joblib>=1.1.0 in /Library/Frameworks/Python.framework/Versions/3.8/lib/python3.8/site-packages (from pycaret) (1.2.0)\n",
      "Collecting numpy<1.23,>=1.21\n",
      "  Downloading numpy-1.22.4.zip (11.5 MB)\n",
      "\u001b[2K     \u001b[90m━━━━━━━━━━━━━━━━━━━━━━━━━━━━━━━━━━━━━━━━\u001b[0m \u001b[32m11.5/11.5 MB\u001b[0m \u001b[31m28.1 MB/s\u001b[0m eta \u001b[36m0:00:00\u001b[0m00:01\u001b[0m00:01\u001b[0m\n",
      "\u001b[?25h  Installing build dependencies ... \u001b[?25ldone\n",
      "\u001b[?25h  Getting requirements to build wheel ... \u001b[?25ldone\n",
      "\u001b[?25h  Preparing metadata (pyproject.toml) ... \u001b[?25ldone\n",
      "\u001b[?25hRequirement already satisfied: scikit-plot>=0.3.7 in /Library/Frameworks/Python.framework/Versions/3.8/lib/python3.8/site-packages (from pycaret) (0.3.7)\n",
      "Requirement already satisfied: plotly>=5.0.0 in /Library/Frameworks/Python.framework/Versions/3.8/lib/python3.8/site-packages (from pycaret) (5.10.0)\n",
      "Requirement already satisfied: tqdm>=4.62.0 in /Library/Frameworks/Python.framework/Versions/3.8/lib/python3.8/site-packages (from pycaret) (4.64.1)\n",
      "Requirement already satisfied: matplotlib>=3.3.0 in /Library/Frameworks/Python.framework/Versions/3.8/lib/python3.8/site-packages (from pycaret) (3.5.2)\n",
      "Collecting imbalanced-learn>=0.8.1\n",
      "  Downloading imbalanced_learn-0.9.1-py3-none-any.whl (199 kB)\n",
      "\u001b[2K     \u001b[90m━━━━━━━━━━━━━━━━━━━━━━━━━━━━━━━━━━━━━━\u001b[0m \u001b[32m199.3/199.3 kB\u001b[0m \u001b[31m14.0 MB/s\u001b[0m eta \u001b[36m0:00:00\u001b[0m\n",
      "\u001b[?25hRequirement already satisfied: patsy>=0.5.1 in /Library/Frameworks/Python.framework/Versions/3.8/lib/python3.8/site-packages (from category-encoders>=2.4.0->pycaret) (0.5.2)\n",
      "Requirement already satisfied: threadpoolctl>=2.0.0 in /Library/Frameworks/Python.framework/Versions/3.8/lib/python3.8/site-packages (from imbalanced-learn>=0.8.1->pycaret) (3.1.0)\n",
      "Requirement already satisfied: zipp>=0.5 in /Library/Frameworks/Python.framework/Versions/3.8/lib/python3.8/site-packages (from importlib-metadata>=4.12.0->pycaret) (3.8.1)\n",
      "Requirement already satisfied: prompt-toolkit!=3.0.0,!=3.0.1,<3.1.0,>=2.0.0 in /Library/Frameworks/Python.framework/Versions/3.8/lib/python3.8/site-packages (from ipython>=5.5.0->pycaret) (3.0.30)\n",
      "Requirement already satisfied: appnope in /Library/Frameworks/Python.framework/Versions/3.8/lib/python3.8/site-packages (from ipython>=5.5.0->pycaret) (0.1.3)\n",
      "Requirement already satisfied: traitlets>=5 in /Library/Frameworks/Python.framework/Versions/3.8/lib/python3.8/site-packages (from ipython>=5.5.0->pycaret) (5.3.0)\n",
      "Requirement already satisfied: jedi>=0.16 in /Library/Frameworks/Python.framework/Versions/3.8/lib/python3.8/site-packages (from ipython>=5.5.0->pycaret) (0.18.1)\n",
      "Requirement already satisfied: pickleshare in /Library/Frameworks/Python.framework/Versions/3.8/lib/python3.8/site-packages (from ipython>=5.5.0->pycaret) (0.7.5)\n",
      "Requirement already satisfied: pexpect>4.3 in /Library/Frameworks/Python.framework/Versions/3.8/lib/python3.8/site-packages (from ipython>=5.5.0->pycaret) (4.8.0)\n",
      "Requirement already satisfied: matplotlib-inline in /Library/Frameworks/Python.framework/Versions/3.8/lib/python3.8/site-packages (from ipython>=5.5.0->pycaret) (0.1.3)\n",
      "Requirement already satisfied: backcall in /Library/Frameworks/Python.framework/Versions/3.8/lib/python3.8/site-packages (from ipython>=5.5.0->pycaret) (0.2.0)\n",
      "Requirement already satisfied: setuptools>=18.5 in /Library/Frameworks/Python.framework/Versions/3.8/lib/python3.8/site-packages (from ipython>=5.5.0->pycaret) (56.0.0)\n",
      "Requirement already satisfied: stack-data in /Library/Frameworks/Python.framework/Versions/3.8/lib/python3.8/site-packages (from ipython>=5.5.0->pycaret) (0.3.0)\n",
      "Requirement already satisfied: decorator in /Library/Frameworks/Python.framework/Versions/3.8/lib/python3.8/site-packages (from ipython>=5.5.0->pycaret) (5.1.1)\n",
      "Requirement already satisfied: pygments>=2.4.0 in /Library/Frameworks/Python.framework/Versions/3.8/lib/python3.8/site-packages (from ipython>=5.5.0->pycaret) (2.12.0)\n",
      "Requirement already satisfied: ipykernel>=4.5.1 in /Library/Frameworks/Python.framework/Versions/3.8/lib/python3.8/site-packages (from ipywidgets>=7.6.5->pycaret) (6.15.1)\n",
      "Requirement already satisfied: widgetsnbextension~=4.0 in /Library/Frameworks/Python.framework/Versions/3.8/lib/python3.8/site-packages (from ipywidgets>=7.6.5->pycaret) (4.0.3)\n",
      "Requirement already satisfied: jupyterlab-widgets~=3.0 in /Library/Frameworks/Python.framework/Versions/3.8/lib/python3.8/site-packages (from ipywidgets>=7.6.5->pycaret) (3.0.3)\n",
      "Requirement already satisfied: wheel in /Library/Frameworks/Python.framework/Versions/3.8/lib/python3.8/site-packages (from lightgbm>=3.0.0->pycaret) (0.37.1)\n",
      "Requirement already satisfied: packaging>=20.0 in /Library/Frameworks/Python.framework/Versions/3.8/lib/python3.8/site-packages (from matplotlib>=3.3.0->pycaret) (21.3)\n"
     ]
    },
    {
     "name": "stdout",
     "output_type": "stream",
     "text": [
      "Requirement already satisfied: kiwisolver>=1.0.1 in /Library/Frameworks/Python.framework/Versions/3.8/lib/python3.8/site-packages (from matplotlib>=3.3.0->pycaret) (1.4.4)\n",
      "Requirement already satisfied: cycler>=0.10 in /Library/Frameworks/Python.framework/Versions/3.8/lib/python3.8/site-packages (from matplotlib>=3.3.0->pycaret) (0.11.0)\n",
      "Requirement already satisfied: fonttools>=4.22.0 in /Library/Frameworks/Python.framework/Versions/3.8/lib/python3.8/site-packages (from matplotlib>=3.3.0->pycaret) (4.34.4)\n",
      "Requirement already satisfied: python-dateutil>=2.7 in /Library/Frameworks/Python.framework/Versions/3.8/lib/python3.8/site-packages (from matplotlib>=3.3.0->pycaret) (2.8.2)\n",
      "Requirement already satisfied: pyparsing>=2.2.1 in /Library/Frameworks/Python.framework/Versions/3.8/lib/python3.8/site-packages (from matplotlib>=3.3.0->pycaret) (3.0.9)\n",
      "Requirement already satisfied: pillow>=6.2.0 in /Library/Frameworks/Python.framework/Versions/3.8/lib/python3.8/site-packages (from matplotlib>=3.3.0->pycaret) (9.2.0)\n",
      "Collecting llvmlite<0.39,>=0.38.0rc1\n",
      "  Downloading llvmlite-0.38.1-cp38-cp38-macosx_10_9_x86_64.whl (25.5 MB)\n",
      "\u001b[2K     \u001b[90m━━━━━━━━━━━━━━━━━━━━━━━━━━━━━━━━━━━━━━━━\u001b[0m \u001b[32m25.5/25.5 MB\u001b[0m \u001b[31m23.9 MB/s\u001b[0m eta \u001b[36m0:00:00\u001b[0m00:01\u001b[0m00:01\u001b[0m\n",
      "\u001b[?25hRequirement already satisfied: pytz>=2020.1 in /Library/Frameworks/Python.framework/Versions/3.8/lib/python3.8/site-packages (from pandas<1.5.0,>=1.3.0->pycaret) (2022.1)\n",
      "Requirement already satisfied: tenacity>=6.2.0 in /Library/Frameworks/Python.framework/Versions/3.8/lib/python3.8/site-packages (from plotly>=5.0.0->pycaret) (8.1.0)\n",
      "Requirement already satisfied: dash<3.0.0,>=2.2.0 in /Library/Frameworks/Python.framework/Versions/3.8/lib/python3.8/site-packages (from plotly-resampler>=0.7.2.2->pycaret) (2.6.2)\n",
      "Requirement already satisfied: jupyter-dash>=0.4.2 in /Library/Frameworks/Python.framework/Versions/3.8/lib/python3.8/site-packages (from plotly-resampler>=0.7.2.2->pycaret) (0.4.2)\n",
      "Collecting Werkzeug==2.1.2\n",
      "  Downloading Werkzeug-2.1.2-py3-none-any.whl (224 kB)\n",
      "\u001b[2K     \u001b[90m━━━━━━━━━━━━━━━━━━━━━━━━━━━━━━━━━━━━━━\u001b[0m \u001b[32m224.9/224.9 kB\u001b[0m \u001b[31m25.7 MB/s\u001b[0m eta \u001b[36m0:00:00\u001b[0m\n",
      "\u001b[?25hRequirement already satisfied: orjson<4.0.0,>=3.8.0 in /Library/Frameworks/Python.framework/Versions/3.8/lib/python3.8/site-packages (from plotly-resampler>=0.7.2.2->pycaret) (3.8.1)\n",
      "Collecting Flask-Cors<4.0.0,>=3.0.10\n",
      "  Downloading Flask_Cors-3.0.10-py2.py3-none-any.whl (14 kB)\n",
      "Collecting trace-updater>=0.0.8\n",
      "  Downloading trace_updater-0.0.9-py3-none-any.whl (185 kB)\n",
      "\u001b[2K     \u001b[90m━━━━━━━━━━━━━━━━━━━━━━━━━━━━━━━━━━━━━━\u001b[0m \u001b[32m185.1/185.1 kB\u001b[0m \u001b[31m23.4 MB/s\u001b[0m eta \u001b[36m0:00:00\u001b[0m\n",
      "\u001b[?25hCollecting Cython!=0.29.18,>=0.29\n",
      "  Downloading Cython-3.0.0a11-py2.py3-none-any.whl (1.1 MB)\n",
      "\u001b[2K     \u001b[90m━━━━━━━━━━━━━━━━━━━━━━━━━━━━━━━━━━━━━━━━\u001b[0m \u001b[32m1.1/1.1 MB\u001b[0m \u001b[31m22.6 MB/s\u001b[0m eta \u001b[36m0:00:00\u001b[0m00:01\u001b[0m\n",
      "\u001b[?25hRequirement already satisfied: urllib3 in /Library/Frameworks/Python.framework/Versions/3.8/lib/python3.8/site-packages (from pmdarima!=1.8.1,<2.0.0,>=1.8.0->pycaret) (1.26.12)\n",
      "Requirement already satisfied: six in /Library/Frameworks/Python.framework/Versions/3.8/lib/python3.8/site-packages (from pyod>=0.9.8->pycaret) (1.16.0)\n",
      "Requirement already satisfied: charset-normalizer<3,>=2 in /Library/Frameworks/Python.framework/Versions/3.8/lib/python3.8/site-packages (from requests>=2.27.1->pycaret) (2.1.1)\n",
      "Requirement already satisfied: certifi>=2017.4.17 in /Library/Frameworks/Python.framework/Versions/3.8/lib/python3.8/site-packages (from requests>=2.27.1->pycaret) (2022.9.24)\n",
      "Requirement already satisfied: idna<4,>=2.5 in /Library/Frameworks/Python.framework/Versions/3.8/lib/python3.8/site-packages (from requests>=2.27.1->pycaret) (3.4)\n",
      "Collecting deprecated>=1.2.13\n",
      "  Downloading Deprecated-1.2.13-py2.py3-none-any.whl (9.6 kB)\n",
      "Requirement already satisfied: dash-table==5.0.0 in /Library/Frameworks/Python.framework/Versions/3.8/lib/python3.8/site-packages (from dash<3.0.0,>=2.2.0->plotly-resampler>=0.7.2.2->pycaret) (5.0.0)\n",
      "Requirement already satisfied: dash-core-components==2.0.0 in /Library/Frameworks/Python.framework/Versions/3.8/lib/python3.8/site-packages (from dash<3.0.0,>=2.2.0->plotly-resampler>=0.7.2.2->pycaret) (2.0.0)\n",
      "Requirement already satisfied: Flask>=1.0.4 in /Library/Frameworks/Python.framework/Versions/3.8/lib/python3.8/site-packages (from dash<3.0.0,>=2.2.0->plotly-resampler>=0.7.2.2->pycaret) (2.2.2)\n",
      "Requirement already satisfied: dash-html-components==2.0.0 in /Library/Frameworks/Python.framework/Versions/3.8/lib/python3.8/site-packages (from dash<3.0.0,>=2.2.0->plotly-resampler>=0.7.2.2->pycaret) (2.0.0)\n",
      "Requirement already satisfied: flask-compress in /Library/Frameworks/Python.framework/Versions/3.8/lib/python3.8/site-packages (from dash<3.0.0,>=2.2.0->plotly-resampler>=0.7.2.2->pycaret) (1.13)\n",
      "Collecting wrapt<2,>=1.10\n",
      "  Downloading wrapt-1.14.1-cp38-cp38-macosx_10_9_x86_64.whl (35 kB)\n",
      "Requirement already satisfied: tornado>=6.1 in /Library/Frameworks/Python.framework/Versions/3.8/lib/python3.8/site-packages (from ipykernel>=4.5.1->ipywidgets>=7.6.5->pycaret) (6.1)\n",
      "Requirement already satisfied: nest-asyncio in /Library/Frameworks/Python.framework/Versions/3.8/lib/python3.8/site-packages (from ipykernel>=4.5.1->ipywidgets>=7.6.5->pycaret) (1.5.5)\n",
      "Requirement already satisfied: jupyter-client>=6.1.12 in /Library/Frameworks/Python.framework/Versions/3.8/lib/python3.8/site-packages (from ipykernel>=4.5.1->ipywidgets>=7.6.5->pycaret) (7.3.4)\n",
      "Requirement already satisfied: pyzmq>=17 in /Library/Frameworks/Python.framework/Versions/3.8/lib/python3.8/site-packages (from ipykernel>=4.5.1->ipywidgets>=7.6.5->pycaret) (23.2.0)\n",
      "Requirement already satisfied: debugpy>=1.0 in /Library/Frameworks/Python.framework/Versions/3.8/lib/python3.8/site-packages (from ipykernel>=4.5.1->ipywidgets>=7.6.5->pycaret) (1.6.2)\n",
      "Requirement already satisfied: parso<0.9.0,>=0.8.0 in /Library/Frameworks/Python.framework/Versions/3.8/lib/python3.8/site-packages (from jedi>=0.16->ipython>=5.5.0->pycaret) (0.8.3)\n",
      "Requirement already satisfied: ansi2html in /Library/Frameworks/Python.framework/Versions/3.8/lib/python3.8/site-packages (from jupyter-dash>=0.4.2->plotly-resampler>=0.7.2.2->pycaret) (1.8.0)\n",
      "Requirement already satisfied: retrying in /Library/Frameworks/Python.framework/Versions/3.8/lib/python3.8/site-packages (from jupyter-dash>=0.4.2->plotly-resampler>=0.7.2.2->pycaret) (1.3.3)\n",
      "Requirement already satisfied: ptyprocess>=0.5 in /Library/Frameworks/Python.framework/Versions/3.8/lib/python3.8/site-packages (from pexpect>4.3->ipython>=5.5.0->pycaret) (0.7.0)\n",
      "Requirement already satisfied: wcwidth in /Library/Frameworks/Python.framework/Versions/3.8/lib/python3.8/site-packages (from prompt-toolkit!=3.0.0,!=3.0.1,<3.1.0,>=2.0.0->ipython>=5.5.0->pycaret) (0.2.5)\n",
      "Requirement already satisfied: asttokens in /Library/Frameworks/Python.framework/Versions/3.8/lib/python3.8/site-packages (from stack-data->ipython>=5.5.0->pycaret) (2.0.5)\n",
      "Requirement already satisfied: pure-eval in /Library/Frameworks/Python.framework/Versions/3.8/lib/python3.8/site-packages (from stack-data->ipython>=5.5.0->pycaret) (0.2.2)\n",
      "Requirement already satisfied: executing in /Library/Frameworks/Python.framework/Versions/3.8/lib/python3.8/site-packages (from stack-data->ipython>=5.5.0->pycaret) (0.8.3)\n",
      "Requirement already satisfied: itsdangerous>=2.0 in /Library/Frameworks/Python.framework/Versions/3.8/lib/python3.8/site-packages (from Flask>=1.0.4->dash<3.0.0,>=2.2.0->plotly-resampler>=0.7.2.2->pycaret) (2.1.2)\n",
      "Collecting Flask>=1.0.4\n",
      "  Using cached Flask-2.2.1-py3-none-any.whl (101 kB)\n",
      "Requirement already satisfied: click>=8.0 in /Library/Frameworks/Python.framework/Versions/3.8/lib/python3.8/site-packages (from Flask>=1.0.4->dash<3.0.0,>=2.2.0->plotly-resampler>=0.7.2.2->pycaret) (8.1.3)\n",
      "  Using cached Flask-2.2.0-py3-none-any.whl (101 kB)\n",
      "  Using cached Flask-2.1.3-py3-none-any.whl (95 kB)\n",
      "Requirement already satisfied: jupyter-core>=4.9.2 in /Library/Frameworks/Python.framework/Versions/3.8/lib/python3.8/site-packages (from jupyter-client>=6.1.12->ipykernel>=4.5.1->ipywidgets>=7.6.5->pycaret) (4.11.1)\n",
      "Requirement already satisfied: entrypoints in /Library/Frameworks/Python.framework/Versions/3.8/lib/python3.8/site-packages (from jupyter-client>=6.1.12->ipykernel>=4.5.1->ipywidgets>=7.6.5->pycaret) (0.4)\n"
     ]
    },
    {
     "name": "stdout",
     "output_type": "stream",
     "text": [
      "Requirement already satisfied: brotli in /Library/Frameworks/Python.framework/Versions/3.8/lib/python3.8/site-packages (from flask-compress->dash<3.0.0,>=2.2.0->plotly-resampler>=0.7.2.2->pycaret) (1.0.9)\n",
      "Building wheels for collected packages: lightgbm, numba, numpy, plotly-resampler, pmdarima\n",
      "  Building wheel for lightgbm (setup.py) ... \u001b[?25lerror\n",
      "  \u001b[1;31merror\u001b[0m: \u001b[1msubprocess-exited-with-error\u001b[0m\n",
      "  \n",
      "  \u001b[31m×\u001b[0m \u001b[32mpython setup.py bdist_wheel\u001b[0m did not run successfully.\n",
      "  \u001b[31m│\u001b[0m exit code: \u001b[1;36m1\u001b[0m\n",
      "  \u001b[31m╰─>\u001b[0m \u001b[31m[78 lines of output]\u001b[0m\n",
      "  \u001b[31m   \u001b[0m running bdist_wheel\n",
      "  \u001b[31m   \u001b[0m running build\n",
      "  \u001b[31m   \u001b[0m running build_py\n",
      "  \u001b[31m   \u001b[0m creating build\n",
      "  \u001b[31m   \u001b[0m creating build/lib\n",
      "  \u001b[31m   \u001b[0m creating build/lib/lightgbm\n",
      "  \u001b[31m   \u001b[0m copying lightgbm/callback.py -> build/lib/lightgbm\n",
      "  \u001b[31m   \u001b[0m copying lightgbm/compat.py -> build/lib/lightgbm\n",
      "  \u001b[31m   \u001b[0m copying lightgbm/plotting.py -> build/lib/lightgbm\n",
      "  \u001b[31m   \u001b[0m copying lightgbm/__init__.py -> build/lib/lightgbm\n",
      "  \u001b[31m   \u001b[0m copying lightgbm/engine.py -> build/lib/lightgbm\n",
      "  \u001b[31m   \u001b[0m copying lightgbm/dask.py -> build/lib/lightgbm\n",
      "  \u001b[31m   \u001b[0m copying lightgbm/basic.py -> build/lib/lightgbm\n",
      "  \u001b[31m   \u001b[0m copying lightgbm/libpath.py -> build/lib/lightgbm\n",
      "  \u001b[31m   \u001b[0m copying lightgbm/sklearn.py -> build/lib/lightgbm\n",
      "  \u001b[31m   \u001b[0m running egg_info\n",
      "  \u001b[31m   \u001b[0m writing lightgbm.egg-info/PKG-INFO\n",
      "  \u001b[31m   \u001b[0m writing dependency_links to lightgbm.egg-info/dependency_links.txt\n",
      "  \u001b[31m   \u001b[0m writing requirements to lightgbm.egg-info/requires.txt\n",
      "  \u001b[31m   \u001b[0m writing top-level names to lightgbm.egg-info/top_level.txt\n",
      "  \u001b[31m   \u001b[0m adding license file 'LICENSE' (matched pattern 'LICEN[CS]E*')\n",
      "  \u001b[31m   \u001b[0m reading manifest file 'lightgbm.egg-info/SOURCES.txt'\n",
      "  \u001b[31m   \u001b[0m reading manifest template 'MANIFEST.in'\n",
      "  \u001b[31m   \u001b[0m no previously-included directories found matching 'build'\n",
      "  \u001b[31m   \u001b[0m warning: no files found matching '*.so' under directory 'lightgbm'\n",
      "  \u001b[31m   \u001b[0m warning: no files found matching '*.so' under directory 'compile'\n",
      "  \u001b[31m   \u001b[0m warning: no files found matching '*.dll' under directory 'compile/Release'\n",
      "  \u001b[31m   \u001b[0m warning: no files found matching '*.dll' under directory 'compile/windows/x64/DLL'\n",
      "  \u001b[31m   \u001b[0m warning: no previously-included files matching '*.py[co]' found anywhere in distribution\n",
      "  \u001b[31m   \u001b[0m warning: no previously-included files found matching 'compile/external_libs/compute/.git'\n",
      "  \u001b[31m   \u001b[0m writing manifest file 'lightgbm.egg-info/SOURCES.txt'\n",
      "  \u001b[31m   \u001b[0m copying lightgbm/VERSION.txt -> build/lib/lightgbm\n",
      "  \u001b[31m   \u001b[0m installing to build/bdist.macosx-10.9-x86_64/wheel\n",
      "  \u001b[31m   \u001b[0m running install\n",
      "  \u001b[31m   \u001b[0m INFO:LightGBM:Starting to compile the library.\n",
      "  \u001b[31m   \u001b[0m INFO:LightGBM:Starting to compile with CMake.\n",
      "  \u001b[31m   \u001b[0m Traceback (most recent call last):\n",
      "  \u001b[31m   \u001b[0m   File \"/private/var/folders/jw/lg6ll5ln5sx8l3dbpj7412480000gn/T/pip-install-sor4_aip/lightgbm_1a76c30e2b334a2fb32a3144f74b9a1e/setup.py\", line 95, in silent_call\n",
      "  \u001b[31m   \u001b[0m     subprocess.check_call(cmd, stderr=log, stdout=log)\n",
      "  \u001b[31m   \u001b[0m   File \"/Library/Frameworks/Python.framework/Versions/3.8/lib/python3.8/subprocess.py\", line 359, in check_call\n",
      "  \u001b[31m   \u001b[0m     retcode = call(*popenargs, **kwargs)\n",
      "  \u001b[31m   \u001b[0m   File \"/Library/Frameworks/Python.framework/Versions/3.8/lib/python3.8/subprocess.py\", line 340, in call\n",
      "  \u001b[31m   \u001b[0m     with Popen(*popenargs, **kwargs) as p:\n",
      "  \u001b[31m   \u001b[0m   File \"/Library/Frameworks/Python.framework/Versions/3.8/lib/python3.8/subprocess.py\", line 858, in __init__\n",
      "  \u001b[31m   \u001b[0m     self._execute_child(args, executable, preexec_fn, close_fds,\n",
      "  \u001b[31m   \u001b[0m   File \"/Library/Frameworks/Python.framework/Versions/3.8/lib/python3.8/subprocess.py\", line 1704, in _execute_child\n",
      "  \u001b[31m   \u001b[0m     raise child_exception_type(errno_num, err_msg, err_filename)\n",
      "  \u001b[31m   \u001b[0m FileNotFoundError: [Errno 2] No such file or directory: 'cmake'\n",
      "  \u001b[31m   \u001b[0m \n",
      "  \u001b[31m   \u001b[0m During handling of the above exception, another exception occurred:\n",
      "  \u001b[31m   \u001b[0m \n",
      "  \u001b[31m   \u001b[0m Traceback (most recent call last):\n",
      "  \u001b[31m   \u001b[0m   File \"<string>\", line 2, in <module>\n",
      "  \u001b[31m   \u001b[0m   File \"<pip-setuptools-caller>\", line 34, in <module>\n",
      "  \u001b[31m   \u001b[0m   File \"/private/var/folders/jw/lg6ll5ln5sx8l3dbpj7412480000gn/T/pip-install-sor4_aip/lightgbm_1a76c30e2b334a2fb32a3144f74b9a1e/setup.py\", line 334, in <module>\n",
      "  \u001b[31m   \u001b[0m     setup(name='lightgbm',\n",
      "  \u001b[31m   \u001b[0m   File \"/Library/Frameworks/Python.framework/Versions/3.8/lib/python3.8/site-packages/setuptools/__init__.py\", line 153, in setup\n",
      "  \u001b[31m   \u001b[0m     return distutils.core.setup(**attrs)\n",
      "  \u001b[31m   \u001b[0m   File \"/Library/Frameworks/Python.framework/Versions/3.8/lib/python3.8/distutils/core.py\", line 148, in setup\n",
      "  \u001b[31m   \u001b[0m     dist.run_commands()\n",
      "  \u001b[31m   \u001b[0m   File \"/Library/Frameworks/Python.framework/Versions/3.8/lib/python3.8/distutils/dist.py\", line 966, in run_commands\n",
      "  \u001b[31m   \u001b[0m     self.run_command(cmd)\n",
      "  \u001b[31m   \u001b[0m   File \"/Library/Frameworks/Python.framework/Versions/3.8/lib/python3.8/distutils/dist.py\", line 985, in run_command\n",
      "  \u001b[31m   \u001b[0m     cmd_obj.run()\n",
      "  \u001b[31m   \u001b[0m   File \"/Library/Frameworks/Python.framework/Versions/3.8/lib/python3.8/site-packages/wheel/bdist_wheel.py\", line 335, in run\n",
      "  \u001b[31m   \u001b[0m     self.run_command('install')\n",
      "  \u001b[31m   \u001b[0m   File \"/Library/Frameworks/Python.framework/Versions/3.8/lib/python3.8/distutils/cmd.py\", line 313, in run_command\n",
      "  \u001b[31m   \u001b[0m     self.distribution.run_command(command)\n",
      "  \u001b[31m   \u001b[0m   File \"/Library/Frameworks/Python.framework/Versions/3.8/lib/python3.8/distutils/dist.py\", line 985, in run_command\n",
      "  \u001b[31m   \u001b[0m     cmd_obj.run()\n",
      "  \u001b[31m   \u001b[0m   File \"/private/var/folders/jw/lg6ll5ln5sx8l3dbpj7412480000gn/T/pip-install-sor4_aip/lightgbm_1a76c30e2b334a2fb32a3144f74b9a1e/setup.py\", line 248, in run\n",
      "  \u001b[31m   \u001b[0m     compile_cpp(use_mingw=self.mingw, use_gpu=self.gpu, use_cuda=self.cuda, use_mpi=self.mpi,\n",
      "  \u001b[31m   \u001b[0m   File \"/private/var/folders/jw/lg6ll5ln5sx8l3dbpj7412480000gn/T/pip-install-sor4_aip/lightgbm_1a76c30e2b334a2fb32a3144f74b9a1e/setup.py\", line 198, in compile_cpp\n",
      "  \u001b[31m   \u001b[0m     silent_call(cmake_cmd, raise_error=True, error_msg='Please install CMake and all required dependencies first')\n",
      "  \u001b[31m   \u001b[0m   File \"/private/var/folders/jw/lg6ll5ln5sx8l3dbpj7412480000gn/T/pip-install-sor4_aip/lightgbm_1a76c30e2b334a2fb32a3144f74b9a1e/setup.py\", line 99, in silent_call\n",
      "  \u001b[31m   \u001b[0m     raise Exception(\"\\n\".join((error_msg, LOG_NOTICE)))\n",
      "  \u001b[31m   \u001b[0m Exception: Please install CMake and all required dependencies first\n",
      "  \u001b[31m   \u001b[0m The full version of error log was saved into /Users/javier/LightGBM_compilation.log\n",
      "  \u001b[31m   \u001b[0m \u001b[31m[end of output]\u001b[0m\n",
      "  \n",
      "  \u001b[1;35mnote\u001b[0m: This error originates from a subprocess, and is likely not a problem with pip.\n",
      "\u001b[31m  ERROR: Failed building wheel for lightgbm\u001b[0m\u001b[31m\n",
      "\u001b[0m\u001b[?25h  Running setup.py clean for lightgbm\n",
      "  Building wheel for numba (setup.py) ... \u001b[?25ldone\n",
      "\u001b[?25h  Created wheel for numba: filename=numba-0.55.2-cp38-cp38-macosx_10_13_x86_64.whl size=2318999 sha256=37cc22fe04ea1e8001105fd87e007c555a8696ea6b663ff7b2f4b4ddca73898c\n",
      "  Stored in directory: /Users/javier/Library/Caches/pip/wheels/55/53/da/b00ae92b30795e0dc28c69c84b99ed79f91171416185c9f96c\n",
      "  Building wheel for numpy (pyproject.toml) ... \u001b[?25l/"
     ]
    }
   ],
   "source": [
    "pip install --pre pycaret"
   ]
  },
  {
   "cell_type": "code",
   "execution_count": 2,
   "id": "0a080534",
   "metadata": {},
   "outputs": [],
   "source": [
    "import pandas as pd\n",
    "import numpy as np\n",
    "import matplotlib.pyplot as plt"
   ]
  },
  {
   "cell_type": "code",
   "execution_count": 3,
   "id": "8f77a241",
   "metadata": {},
   "outputs": [
    {
     "ename": "ModuleNotFoundError",
     "evalue": "No module named 'pycaret'",
     "output_type": "error",
     "traceback": [
      "\u001b[0;31m---------------------------------------------------------------------------\u001b[0m",
      "\u001b[0;31mModuleNotFoundError\u001b[0m                       Traceback (most recent call last)",
      "Input \u001b[0;32mIn [3]\u001b[0m, in \u001b[0;36m<cell line: 2>\u001b[0;34m()\u001b[0m\n\u001b[1;32m      1\u001b[0m \u001b[38;5;66;03m# importamos todo de Pycaret classification\u001b[39;00m\n\u001b[0;32m----> 2\u001b[0m \u001b[38;5;28;01mfrom\u001b[39;00m \u001b[38;5;21;01mpycaret\u001b[39;00m\u001b[38;5;21;01m.\u001b[39;00m\u001b[38;5;21;01mclassification\u001b[39;00m \u001b[38;5;28;01mimport\u001b[39;00m \u001b[38;5;241m*\u001b[39m\n",
      "\u001b[0;31mModuleNotFoundError\u001b[0m: No module named 'pycaret'"
     ]
    }
   ],
   "source": [
    "# importamos todo de Pycaret classification\n",
    "from pycaret.classification import *"
   ]
  },
  {
   "cell_type": "markdown",
   "id": "505f3082",
   "metadata": {},
   "source": [
    "Importamos el Titanic Dataset"
   ]
  },
  {
   "cell_type": "code",
   "execution_count": null,
   "id": "b19d1ca3",
   "metadata": {},
   "outputs": [],
   "source": [
    "# https://www.kaggle.com/competitions/titanic\n",
    "# Obtenemos los distintos dataset correspondientes a:\n",
    "# train.csv,\n",
    "# test.csv y\n",
    "# gender_submission.csv"
   ]
  },
  {
   "cell_type": "code",
   "execution_count": null,
   "id": "66a57829",
   "metadata": {},
   "outputs": [],
   "source": [
    "df = pd.read_csv(\"train.csv\")\n",
    "df.head()"
   ]
  },
  {
   "cell_type": "markdown",
   "id": "63c5244e",
   "metadata": {},
   "source": [
    "setup()"
   ]
  },
  {
   "cell_type": "code",
   "execution_count": null,
   "id": "c1ed3296",
   "metadata": {},
   "outputs": [],
   "source": [
    "# En este caso concreto, haríamos el drop()\n",
    "# las columnas que no queremos las ignoramos con ignore_features\n",
    "# la data es el propio dataframe obtenido con train.csv\n",
    "# la columna (y) es \"Survived\"\n",
    "# Si estamos de acuerdo con los tipos de datos, click en Enter.\n",
    "# (Cuando ejecutamos la celda, debemos esperar y después hacer click en Enter...)\n",
    "# Pclass podría ser \"ordinal\", pero lo ponemos como Categorical\n",
    "# SibSp y Parch con categóricas con un limitado numero de posibles valores\n",
    "# pudimos considerar (quizá) como numéricas, no obstante.\n",
    "clf = setup(data=df, target=\"Survived\", ignore_features=[\"Name\", \"Ticket\", \"PassengerId\"])"
   ]
  },
  {
   "cell_type": "markdown",
   "id": "6bccbbfd",
   "metadata": {},
   "source": [
    "compare_models()"
   ]
  },
  {
   "cell_type": "code",
   "execution_count": null,
   "id": "039d233b",
   "metadata": {},
   "outputs": [],
   "source": [
    "# K-fold cross validation: revisar que es?¿\n",
    "compare_models()"
   ]
  },
  {
   "cell_type": "markdown",
   "id": "d976a195",
   "metadata": {},
   "source": [
    "create_model()\n",
    "Para los 2 o 3 mejores:\n",
    "En mi caso el mejor modelo es GradientBoostingClassifier\n",
    "Lo parámetros que muestra son ACCURACY y AUC, dando los mejores porcentajes."
   ]
  },
  {
   "cell_type": "code",
   "execution_count": null,
   "id": "b6583e92",
   "metadata": {},
   "outputs": [],
   "source": [
    "gbc = create_model(\"gbc\")"
   ]
  },
  {
   "cell_type": "code",
   "execution_count": null,
   "id": "e0b70b89",
   "metadata": {},
   "outputs": [],
   "source": [
    "lr = create_model(\"lr\")"
   ]
  },
  {
   "cell_type": "code",
   "execution_count": null,
   "id": "2b7b104d",
   "metadata": {},
   "outputs": [],
   "source": [
    "et = create_model(\"et\")"
   ]
  },
  {
   "cell_type": "markdown",
   "id": "f75b20f0",
   "metadata": {},
   "source": [
    "tune_model() para los 2 o 3 mejores"
   ]
  },
  {
   "cell_type": "code",
   "execution_count": null,
   "id": "4efcbf66",
   "metadata": {},
   "outputs": [],
   "source": [
    "tune_gbc_auc = tune_model(gbc, optimize=\"AUC\")"
   ]
  },
  {
   "cell_type": "code",
   "execution_count": null,
   "id": "48ec8f77",
   "metadata": {},
   "outputs": [],
   "source": [
    "tune_gbc_acc = tune_model(gbc, optimize=\"Accuracy\")"
   ]
  },
  {
   "cell_type": "code",
   "execution_count": null,
   "id": "69888bf3",
   "metadata": {},
   "outputs": [],
   "source": [
    "tune_lr_auc = tune_model(lr, optimize=\"AUC\")"
   ]
  },
  {
   "cell_type": "code",
   "execution_count": null,
   "id": "02e52033",
   "metadata": {},
   "outputs": [],
   "source": [
    "tune_lr_acc = tune_model(lr, optimize=\"Accuracy\")"
   ]
  },
  {
   "cell_type": "code",
   "execution_count": null,
   "id": "237c61bd",
   "metadata": {},
   "outputs": [],
   "source": [
    "tune_et_auc = tune_model(et, optimize=\"AUC\")"
   ]
  },
  {
   "cell_type": "code",
   "execution_count": null,
   "id": "c581d91b",
   "metadata": {},
   "outputs": [],
   "source": [
    "tune_et_acc = tune_model(et, optimize=\"Accuracy\")"
   ]
  },
  {
   "cell_type": "markdown",
   "id": "ecd8e148",
   "metadata": {},
   "source": [
    "plot_model() para el mejor modelo"
   ]
  },
  {
   "cell_type": "code",
   "execution_count": null,
   "id": "6b3058f1",
   "metadata": {},
   "outputs": [],
   "source": [
    "# tune_gbc_acc consigue:\n",
    "# 0.8583 (Accuracy) - 0.8583 (AUC)\n",
    "plot_model(tune_gbc_acc, plot=\"error\")"
   ]
  },
  {
   "cell_type": "code",
   "execution_count": null,
   "id": "2f4c95ac",
   "metadata": {},
   "outputs": [],
   "source": [
    "plot_model(tune_gbc_acc, plot=\"pr\")"
   ]
  },
  {
   "cell_type": "code",
   "execution_count": null,
   "id": "08fd2512",
   "metadata": {},
   "outputs": [],
   "source": [
    "plot_model(tune_gbc_acc, plot=\"feature\")"
   ]
  },
  {
   "cell_type": "code",
   "execution_count": null,
   "id": "d78e22c8",
   "metadata": {},
   "outputs": [],
   "source": [
    "plot_model(tune_gbc_acc, plot=\"confusion_matrix\")"
   ]
  },
  {
   "cell_type": "markdown",
   "id": "cd674079",
   "metadata": {},
   "source": [
    "evaluate_model() para el mejor"
   ]
  },
  {
   "cell_type": "code",
   "execution_count": null,
   "id": "a19386a1",
   "metadata": {},
   "outputs": [],
   "source": [
    "evaluate_model(tune_gbc_acc)"
   ]
  },
  {
   "cell_type": "markdown",
   "id": "6b6c437f",
   "metadata": {},
   "source": [
    "nos vamos a test.csv"
   ]
  },
  {
   "cell_type": "code",
   "execution_count": null,
   "id": "eba3189a",
   "metadata": {},
   "outputs": [],
   "source": [
    "test = pd.read_csv(\"./data/test.csv\")\n",
    "test"
   ]
  },
  {
   "cell_type": "markdown",
   "id": "4bbcdf4e",
   "metadata": {},
   "source": [
    "Realizamos la predicción"
   ]
  },
  {
   "cell_type": "code",
   "execution_count": null,
   "id": "70494e77",
   "metadata": {},
   "outputs": [],
   "source": [
    "predicciones = predict_model(tune_gbc_acc, data=test)\n",
    "predicciones"
   ]
  },
  {
   "cell_type": "code",
   "execution_count": null,
   "id": "5ec4946d",
   "metadata": {},
   "outputs": [],
   "source": [
    "predicciones_submission = predicciones[[\"PassengerId\", \"Label\"]]\n",
    "predicciones_submission"
   ]
  },
  {
   "cell_type": "markdown",
   "id": "ff5c2d9e",
   "metadata": {},
   "source": [
    "Submissions"
   ]
  },
  {
   "cell_type": "code",
   "execution_count": null,
   "id": "3d4d3423",
   "metadata": {},
   "outputs": [],
   "source": [
    "submission = pd.read_csv(\"./data/gender_submission.csv\")\n",
    "submission"
   ]
  },
  {
   "cell_type": "code",
   "execution_count": null,
   "id": "8930d171",
   "metadata": {},
   "outputs": [],
   "source": [
    "submission.PassengerId = predicciones_submission[\"PassengerId\"]\n",
    "submission.Survived = predicciones_submission[\"Label\"]\n",
    "submission.head()"
   ]
  },
  {
   "cell_type": "code",
   "execution_count": null,
   "id": "9b798c23",
   "metadata": {},
   "outputs": [],
   "source": []
  }
 ],
 "metadata": {
  "kernelspec": {
   "display_name": "venv",
   "language": "python",
   "name": "venv"
  },
  "language_info": {
   "codemirror_mode": {
    "name": "ipython",
    "version": 3
   },
   "file_extension": ".py",
   "mimetype": "text/x-python",
   "name": "python",
   "nbconvert_exporter": "python",
   "pygments_lexer": "ipython3",
   "version": "3.8.10"
  }
 },
 "nbformat": 4,
 "nbformat_minor": 5
}
